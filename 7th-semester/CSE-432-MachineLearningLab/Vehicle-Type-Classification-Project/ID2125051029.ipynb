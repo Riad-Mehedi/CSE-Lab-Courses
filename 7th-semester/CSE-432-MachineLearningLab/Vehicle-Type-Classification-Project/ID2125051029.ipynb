{
  "nbformat": 4,
  "nbformat_minor": 0,
  "metadata": {
    "colab": {
      "provenance": []
    },
    "kernelspec": {
      "name": "python3",
      "display_name": "Python 3"
    },
    "language_info": {
      "name": "python"
    }
  },
  "cells": [
    {
      "cell_type": "code",
      "execution_count": 1,
      "metadata": {
        "colab": {
          "base_uri": "https://localhost:8080/"
        },
        "id": "M5WP4Ypb3tsf",
        "outputId": "45f34d6b-4514-4e74-dd4c-a6e00add446a"
      },
      "outputs": [
        {
          "output_type": "stream",
          "name": "stdout",
          "text": [
            "Mounted at /content/drive\n"
          ]
        }
      ],
      "source": [
        "from google.colab import drive\n",
        "drive.mount('/content/drive')"
      ]
    },
    {
      "cell_type": "code",
      "source": [
        "import os\n",
        "import cv2\n",
        "import numpy as np\n",
        "from sklearn.model_selection import train_test_split\n",
        "from sklearn.svm import SVC\n",
        "from sklearn.metrics import classification_report\n",
        "from tensorflow.keras.models import Sequential\n",
        "from tensorflow.keras.layers import Conv2D, MaxPooling2D, Flatten, Dense\n",
        "from tensorflow.keras.utils import to_categorical\n",
        "from tensorflow.keras.preprocessing.image import ImageDataGenerator\n",
        "\n",
        "# Path to dataset\n",
        "DATASET_DIR = '/content/drive/MyDrive/MachineLearningLab_MBS/Dataset'\n",
        "\n",
        "# Load dataset\n",
        "def load_images_and_labels(dataset_dir):\n",
        "    images = []\n",
        "    labels = []\n",
        "    label_map = {}\n",
        "    for label, category in enumerate(os.listdir(dataset_dir)):\n",
        "        label_map[label] = category\n",
        "        category_dir = os.path.join(dataset_dir, category)\n",
        "        for file in os.listdir(category_dir):\n",
        "            img_path = os.path.join(category_dir, file)\n",
        "            img = cv2.imread(img_path)\n",
        "            if img is not None:\n",
        "                img = cv2.resize(img, (128, 128))  # Resize images to 128x128\n",
        "                images.append(img)\n",
        "                labels.append(label)\n",
        "    return np.array(images), np.array(labels), label_map\n",
        "\n",
        "images, labels, label_map = load_images_and_labels(DATASET_DIR)\n",
        "\n",
        "# Normalize images\n",
        "images = images / 255.0\n",
        "\n",
        "# Train-test split\n",
        "X_train, X_test, y_train, y_test = train_test_split(images, labels, test_size=0.2, random_state=42)\n",
        "\n",
        "# Convert labels to categorical for CNN\n",
        "y_train_categorical = to_categorical(y_train)\n",
        "y_test_categorical = to_categorical(y_test)\n",
        "\n",
        "# 1. Conventional Classification\n",
        "def extract_features(images):\n",
        "    return images.reshape(len(images), -1)  # Flatten images\n",
        "\n",
        "X_train_flat = extract_features(X_train)\n",
        "X_test_flat = extract_features(X_test)\n",
        "\n",
        "svm = SVC(kernel='linear')\n",
        "svm.fit(X_train_flat, y_train)\n",
        "y_pred_svm = svm.predict(X_test_flat)\n",
        "\n",
        "print(\"SVM Classification Report:\")\n",
        "print(classification_report(y_test, y_pred_svm, target_names=label_map.values()))\n",
        "\n",
        "# 2. CNN Model\n",
        "cnn_model = Sequential([\n",
        "    Conv2D(32, (3, 3), activation='relu', input_shape=(128, 128, 3)),\n",
        "    MaxPooling2D((2, 2)),\n",
        "    Conv2D(64, (3, 3), activation='relu'),\n",
        "    MaxPooling2D((2, 2)),\n",
        "    Flatten(),\n",
        "    Dense(128, activation='relu'),\n",
        "    Dense(len(label_map), activation='softmax')\n",
        "])\n",
        "\n",
        "cnn_model.compile(optimizer='adam', loss='categorical_crossentropy', metrics=['accuracy'])\n",
        "\n",
        "# Data augmentation\n",
        "datagen = ImageDataGenerator(rotation_range=15, width_shift_range=0.1, height_shift_range=0.1, horizontal_flip=True)\n",
        "datagen.fit(X_train)\n",
        "\n",
        "cnn_model.fit(datagen.flow(X_train, y_train_categorical, batch_size=32),\n",
        "              validation_data=(X_test, y_test_categorical), epochs=10)\n",
        "\n",
        "# Evaluate CNN\n",
        "cnn_loss, cnn_accuracy = cnn_model.evaluate(X_test, y_test_categorical)\n",
        "print(f\"CNN Accuracy: {cnn_accuracy * 100:.2f}%\")\n"
      ],
      "metadata": {
        "colab": {
          "base_uri": "https://localhost:8080/"
        },
        "id": "-YK0xBDK4x0a",
        "outputId": "a3ce0123-282a-4fbe-d088-57a3396e69d3"
      },
      "execution_count": 2,
      "outputs": [
        {
          "output_type": "stream",
          "name": "stdout",
          "text": [
            "SVM Classification Report:\n",
            "              precision    recall  f1-score   support\n",
            "\n",
            "         Bus       0.62      0.69      0.65        26\n",
            "         Car       0.38      0.33      0.35        18\n",
            "  motorcycle       0.71      0.67      0.69        18\n",
            "       Truck       0.44      0.44      0.44        18\n",
            "\n",
            "    accuracy                           0.55        80\n",
            "   macro avg       0.54      0.53      0.53        80\n",
            "weighted avg       0.54      0.55      0.55        80\n",
            "\n"
          ]
        },
        {
          "output_type": "stream",
          "name": "stderr",
          "text": [
            "/usr/local/lib/python3.10/dist-packages/keras/src/layers/convolutional/base_conv.py:107: UserWarning: Do not pass an `input_shape`/`input_dim` argument to a layer. When using Sequential models, prefer using an `Input(shape)` object as the first layer in the model instead.\n",
            "  super().__init__(activity_regularizer=activity_regularizer, **kwargs)\n"
          ]
        },
        {
          "output_type": "stream",
          "name": "stdout",
          "text": [
            "Epoch 1/10\n"
          ]
        },
        {
          "output_type": "stream",
          "name": "stderr",
          "text": [
            "/usr/local/lib/python3.10/dist-packages/keras/src/trainers/data_adapters/py_dataset_adapter.py:122: UserWarning: Your `PyDataset` class should call `super().__init__(**kwargs)` in its constructor. `**kwargs` can include `workers`, `use_multiprocessing`, `max_queue_size`. Do not pass these arguments to `fit()`, as they will be ignored.\n",
            "  self._warn_if_super_not_called()\n"
          ]
        },
        {
          "output_type": "stream",
          "name": "stdout",
          "text": [
            "\u001b[1m10/10\u001b[0m \u001b[32m━━━━━━━━━━━━━━━━━━━━\u001b[0m\u001b[37m\u001b[0m \u001b[1m17s\u001b[0m 937ms/step - accuracy: 0.2113 - loss: 4.7525 - val_accuracy: 0.3250 - val_loss: 1.3696\n",
            "Epoch 2/10\n",
            "\u001b[1m10/10\u001b[0m \u001b[32m━━━━━━━━━━━━━━━━━━━━\u001b[0m\u001b[37m\u001b[0m \u001b[1m16s\u001b[0m 1s/step - accuracy: 0.2759 - loss: 1.3843 - val_accuracy: 0.2250 - val_loss: 1.3839\n",
            "Epoch 3/10\n",
            "\u001b[1m10/10\u001b[0m \u001b[32m━━━━━━━━━━━━━━━━━━━━\u001b[0m\u001b[37m\u001b[0m \u001b[1m10s\u001b[0m 795ms/step - accuracy: 0.3000 - loss: 1.3593 - val_accuracy: 0.3375 - val_loss: 1.3437\n",
            "Epoch 4/10\n",
            "\u001b[1m10/10\u001b[0m \u001b[32m━━━━━━━━━━━━━━━━━━━━\u001b[0m\u001b[37m\u001b[0m \u001b[1m12s\u001b[0m 1s/step - accuracy: 0.3638 - loss: 1.3103 - val_accuracy: 0.4625 - val_loss: 1.2635\n",
            "Epoch 5/10\n",
            "\u001b[1m10/10\u001b[0m \u001b[32m━━━━━━━━━━━━━━━━━━━━\u001b[0m\u001b[37m\u001b[0m \u001b[1m11s\u001b[0m 1s/step - accuracy: 0.5004 - loss: 1.1947 - val_accuracy: 0.4000 - val_loss: 1.2677\n",
            "Epoch 6/10\n",
            "\u001b[1m10/10\u001b[0m \u001b[32m━━━━━━━━━━━━━━━━━━━━\u001b[0m\u001b[37m\u001b[0m \u001b[1m10s\u001b[0m 804ms/step - accuracy: 0.5044 - loss: 1.0982 - val_accuracy: 0.5375 - val_loss: 1.0944\n",
            "Epoch 7/10\n",
            "\u001b[1m10/10\u001b[0m \u001b[32m━━━━━━━━━━━━━━━━━━━━\u001b[0m\u001b[37m\u001b[0m \u001b[1m11s\u001b[0m 1s/step - accuracy: 0.5830 - loss: 1.0225 - val_accuracy: 0.5500 - val_loss: 1.0681\n",
            "Epoch 8/10\n",
            "\u001b[1m10/10\u001b[0m \u001b[32m━━━━━━━━━━━━━━━━━━━━\u001b[0m\u001b[37m\u001b[0m \u001b[1m11s\u001b[0m 1s/step - accuracy: 0.5884 - loss: 0.9458 - val_accuracy: 0.5875 - val_loss: 1.0781\n",
            "Epoch 9/10\n",
            "\u001b[1m10/10\u001b[0m \u001b[32m━━━━━━━━━━━━━━━━━━━━\u001b[0m\u001b[37m\u001b[0m \u001b[1m10s\u001b[0m 791ms/step - accuracy: 0.6246 - loss: 0.9023 - val_accuracy: 0.4875 - val_loss: 1.2445\n",
            "Epoch 10/10\n",
            "\u001b[1m10/10\u001b[0m \u001b[32m━━━━━━━━━━━━━━━━━━━━\u001b[0m\u001b[37m\u001b[0m \u001b[1m12s\u001b[0m 965ms/step - accuracy: 0.6598 - loss: 0.9050 - val_accuracy: 0.4750 - val_loss: 1.3211\n",
            "\u001b[1m3/3\u001b[0m \u001b[32m━━━━━━━━━━━━━━━━━━━━\u001b[0m\u001b[37m\u001b[0m \u001b[1m1s\u001b[0m 164ms/step - accuracy: 0.5070 - loss: 1.2468\n",
            "CNN Accuracy: 47.50%\n"
          ]
        }
      ]
    },
    {
      "cell_type": "code",
      "source": [
        "from sklearn.metrics import accuracy_score\n",
        "svm_accuracy = accuracy_score(y_test, y_pred_svm)\n",
        "print(f\"SVM Accuracy: {svm_accuracy * 100:.2f}%\")"
      ],
      "metadata": {
        "colab": {
          "base_uri": "https://localhost:8080/"
        },
        "id": "1ufuVThm67KZ",
        "outputId": "aaf9159e-ef4e-42d1-da2b-736d9025f26f"
      },
      "execution_count": 3,
      "outputs": [
        {
          "output_type": "stream",
          "name": "stdout",
          "text": [
            "SVM Accuracy: 55.00%\n"
          ]
        }
      ]
    },
    {
      "cell_type": "code",
      "source": [
        "cnn_loss, cnn_accuracy = cnn_model.evaluate(X_test, y_test_categorical)\n",
        "print(f\"CNN Accuracy: {cnn_accuracy * 100:.2f}%\")"
      ],
      "metadata": {
        "colab": {
          "base_uri": "https://localhost:8080/"
        },
        "id": "B_DcA_Pg7UKH",
        "outputId": "64ccc083-322b-428e-a156-c72ffb7166da"
      },
      "execution_count": 4,
      "outputs": [
        {
          "output_type": "stream",
          "name": "stdout",
          "text": [
            "\u001b[1m3/3\u001b[0m \u001b[32m━━━━━━━━━━━━━━━━━━━━\u001b[0m\u001b[37m\u001b[0m \u001b[1m1s\u001b[0m 287ms/step - accuracy: 0.5070 - loss: 1.2468\n",
            "CNN Accuracy: 47.50%\n"
          ]
        }
      ]
    }
  ]
}